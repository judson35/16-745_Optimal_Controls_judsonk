{
 "cells": [
  {
   "cell_type": "code",
   "execution_count": null,
   "metadata": {},
   "outputs": [],
   "source": [
    "import Pkg; Pkg.activate(@__DIR__); Pkg.instantiate()"
   ]
  },
  {
   "cell_type": "code",
   "execution_count": null,
   "metadata": {},
   "outputs": [],
   "source": [
    "using LinearAlgebra\n",
    "using ForwardDiff\n",
    "using PyPlot"
   ]
  },
  {
   "cell_type": "code",
   "execution_count": null,
   "metadata": {},
   "outputs": [],
   "source": [
    "Q = Diagonal([0.5; 1])\n",
    "function f(x)\n",
    "    return 0.5*(x-[1; 0])'*Q*(x-[1; 0])\n",
    "end\n",
    "function ∇f(x)\n",
    "    return Q*(x-[1; 0])\n",
    "end\n",
    "function ∇2f(x)\n",
    "    return Q\n",
    "end"
   ]
  },
  {
   "cell_type": "code",
   "execution_count": null,
   "metadata": {},
   "outputs": [],
   "source": [
    "A = [1.0 -1.0]\n",
    "b = -1.0\n",
    "function c(x)\n",
    "    return dot(A,x) - b\n",
    "end\n",
    "function ∂c(x)\n",
    "    return A\n",
    "end"
   ]
  },
  {
   "cell_type": "code",
   "execution_count": null,
   "metadata": {},
   "outputs": [],
   "source": [
    "function plot_landscape()\n",
    "    Nsamp = 20\n",
    "    Xsamp = kron(ones(Nsamp),LinRange(-4,4,Nsamp)')\n",
    "    Ysamp = kron(ones(Nsamp)',LinRange(-4,4,Nsamp))\n",
    "    Zsamp = zeros(Nsamp,Nsamp)\n",
    "    for j = 1:Nsamp\n",
    "        for k = 1:Nsamp\n",
    "            Zsamp[j,k] = f([Xsamp[j,k]; Ysamp[j,k]])\n",
    "        end\n",
    "    end\n",
    "    contour(Xsamp,Ysamp,Zsamp)\n",
    "\n",
    "    xc = LinRange(-4,3,Nsamp)\n",
    "    plot(xc,xc.+1,\"y\")\n",
    "end\n",
    "\n",
    "plot_landscape()"
   ]
  },
  {
   "cell_type": "code",
   "execution_count": null,
   "metadata": {},
   "outputs": [],
   "source": [
    "function La(x,λ,ρ)\n",
    "    p = max(0,c(x))\n",
    "    return f(x) + λ*p + (ρ/2)*(p'*p)\n",
    "end"
   ]
  },
  {
   "cell_type": "code",
   "execution_count": null,
   "metadata": {},
   "outputs": [],
   "source": [
    "function newton_solve(x0,λ,ρ)\n",
    "    x = x0\n",
    "    p = max.(0,c(x))\n",
    "    C = zeros(1,2)\n",
    "    if c(x) ≥ 0\n",
    "        C = ∂c(x)\n",
    "    end\n",
    "    g = ∇f(x) + (λ+ρ*p)*C'\n",
    "    while norm(g) ≥ 1e-8\n",
    "        H = ∇2f(x) + ρ*C'*C\n",
    "        Δx = -H\\g\n",
    "        \n",
    "        x = x+Δx\n",
    "        \n",
    "        p = max.(0,c(x))\n",
    "        C = zeros(1,2)\n",
    "        if c(x) ≥ 0\n",
    "            C = ∂c(x)\n",
    "        end\n",
    "        g = ∇f(x) + (λ+ρ*p)*C'\n",
    "    end\n",
    "    \n",
    "    return x\n",
    "end"
   ]
  },
  {
   "cell_type": "code",
   "execution_count": null,
   "metadata": {},
   "outputs": [],
   "source": [
    "xguess = [-3; 2]\n",
    "λguess = [0.0]\n",
    "ρ = 1.0\n",
    "plot_landscape()\n",
    "plot(xguess[1], xguess[2], \"rx\")"
   ]
  },
  {
   "cell_type": "code",
   "execution_count": null,
   "metadata": {},
   "outputs": [],
   "source": [
    "xnew = newton_solve(xguess[:,end],λguess[end],ρ)\n",
    "λnew = max.(0,λguess[end]+ρ*c(xnew))\n",
    "xguess = [xguess xnew]\n",
    "λguess = [λguess λnew]\n",
    "ρ = 10*ρ\n",
    "plot_landscape()\n",
    "plot(xguess[1,:], xguess[2,:], \"rx\")"
   ]
  },
  {
   "cell_type": "code",
   "execution_count": null,
   "metadata": {},
   "outputs": [],
   "source": []
  }
 ],
 "metadata": {
  "kernelspec": {
   "display_name": "Julia 1.6.7",
   "language": "julia",
   "name": "julia-1.6"
  },
  "language_info": {
   "file_extension": ".jl",
   "mimetype": "application/julia",
   "name": "julia",
   "version": "1.6.7"
  }
 },
 "nbformat": 4,
 "nbformat_minor": 4
}
